{
 "cells": [
  {
   "cell_type": "code",
   "execution_count": 1,
   "id": "68998742",
   "metadata": {},
   "outputs": [],
   "source": [
    "import pandas as pd\n",
    "import matplotlib.pyplot as plt\n",
    "\n",
    "# Load data from Excel file into pandas DataFrames\n",
    "file_path = 'your_file.xlsx'  # Replace with your file path\n",
    "df1 = pd.read_excel(file_path, sheet_name='Sheet1')  # Change sheet_name if needed\n",
    "df2 = pd.read_excel(file_path, sheet_name='Sheet2')  # Change sheet_name if needed\n",
    "\n",
    "# Assuming the variables are in specific columns, you can access them like this:\n",
    "var1_col = 'Variable1'  # Replace with the actual column name\n",
    "var2_col = 'Variable2'  # Replace with the actual column name\n",
    "\n",
    "# Plotting side by side\n",
    "plt.figure(figsize=(10, 4))  # Adjust the figure size as needed\n",
    "\n",
    "plt.subplot(1, 2, 1)  # 1 row, 2 columns, 1st plot\n",
    "plt.plot(df1[var1_col], label='Variable 1 - Sheet 1')\n",
    "plt.plot(df2[var1_col], label='Variable 1 - Sheet 2')\n",
    "plt.title('Variable 1')\n",
    "plt.legend()\n",
    "\n",
    "plt.subplot(1, 2, 2)  # 1 row, 2 columns, 2nd plot\n",
    "plt.plot(df1[var2_col], label='Variable 2 - Sheet 1')\n",
    "plt.plot(df2[var2_col], label='Variable 2 - Sheet 2')\n",
    "plt.title('Variable 2')\n",
    "plt.legend()\n",
    "\n",
    "plt.tight_layout()  # Adjust subplot spacing\n",
    "plt.show()"
   ]
  },
  {
   "cell_type": "code",
   "execution_count": null,
   "id": "24494a26",
   "metadata": {},
   "outputs": [],
   "source": []
  }
 ],
 "metadata": {
  "kernelspec": {
   "display_name": "Python 3 (ipykernel)",
   "language": "python",
   "name": "python3"
  },
  "language_info": {
   "codemirror_mode": {
    "name": "ipython",
    "version": 3
   },
   "file_extension": ".py",
   "mimetype": "text/x-python",
   "name": "python",
   "nbconvert_exporter": "python",
   "pygments_lexer": "ipython3",
   "version": "3.10.9"
  }
 },
 "nbformat": 4,
 "nbformat_minor": 5
}
